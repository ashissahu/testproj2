{
  "cells": [
    {
      "cell_type": "code",
      "execution_count": 1,
      "metadata": {
        "id": "ZZLRdo11Wnx3"
      },
      "outputs": [],
      "source": [
        "import os"
      ]
    },
    {
      "cell_type": "code",
      "execution_count": 2,
      "metadata": {
        "id": "hmHiuIZCWnx8",
        "outputId": "97e6a4bc-da41-45a5-a71d-e67fa8d5c3d2"
      },
      "outputs": [
        {
          "data": {
            "text/plain": [
              "'c:\\\\testproj2\\\\research'"
            ]
          },
          "execution_count": 2,
          "metadata": {},
          "output_type": "execute_result"
        }
      ],
      "source": [
        "%pwd"
      ]
    },
    {
      "cell_type": "code",
      "execution_count": 3,
      "metadata": {
        "id": "4PSKJTfIWnx_"
      },
      "outputs": [],
      "source": [
        "os.chdir(\"../\")"
      ]
    },
    {
      "cell_type": "code",
      "execution_count": 4,
      "metadata": {
        "id": "71MOBB8FWnyA",
        "outputId": "25c51d35-9390-4aae-b5e6-24f11c6b7b2b"
      },
      "outputs": [
        {
          "data": {
            "text/plain": [
              "'c:\\\\testproj2'"
            ]
          },
          "execution_count": 4,
          "metadata": {},
          "output_type": "execute_result"
        }
      ],
      "source": [
        "%pwd"
      ]
    },
    {
      "cell_type": "code",
      "execution_count": 5,
      "metadata": {
        "id": "zui9mPpcWnyB"
      },
      "outputs": [],
      "source": [
        "from dataclasses import dataclass\n",
        "from pathlib import Path\n",
        "\n",
        "\n",
        "@dataclass(frozen=True)\n",
        "class DataTransformationConfig:\n",
        "    root_dir: Path\n",
        "    data_path: Path"
      ]
    },
    {
      "cell_type": "code",
      "execution_count": 6,
      "metadata": {
        "id": "1SQ7bltwWnyB"
      },
      "outputs": [],
      "source": [
        "from src.datascience.constants import *\n",
        "from src.datascience.utils.common import read_yaml, create_directories"
      ]
    },
    {
      "cell_type": "code",
      "execution_count": 7,
      "metadata": {
        "id": "WgNhMGPmWnyD"
      },
      "outputs": [],
      "source": [
        "class ConfigurationManager:\n",
        "    def __init__(\n",
        "        self,\n",
        "        config_filepath = CONFIG_FILE_PATH,\n",
        "        params_filepath = PARAMS_FILE_PATH,\n",
        "        schema_filepath = SCHEMA_FILE_PATH):\n",
        "\n",
        "        self.config = read_yaml(config_filepath)\n",
        "        self.params = read_yaml(params_filepath)\n",
        "        self.schema = read_yaml(schema_filepath)\n",
        "\n",
        "        create_directories([self.config.artifacts_root])\n",
        "\n",
        "\n",
        "\n",
        "    def get_data_transformation_config(self) -> DataTransformationConfig:\n",
        "        config = self.config.data_transformation\n",
        "\n",
        "        create_directories([config.root_dir])\n",
        "\n",
        "        data_transformation_config = DataTransformationConfig(\n",
        "            root_dir=config.root_dir,\n",
        "            data_path=config.data_path,\n",
        "        )\n",
        "\n",
        "        return data_transformation_config"
      ]
    },
    {
      "cell_type": "code",
      "execution_count": 8,
      "metadata": {
        "id": "MHQpyacAWnyF"
      },
      "outputs": [],
      "source": [
        "import os\n",
        "from src.datascience import logger\n",
        "from sklearn.model_selection import train_test_split\n",
        "import pandas as pd"
      ]
    },
    {
      "cell_type": "code",
      "execution_count": 9,
      "metadata": {
        "id": "gEPAlJSwWnyG"
      },
      "outputs": [],
      "source": [
        "class DataTransformation:\n",
        "    def __init__(self, config: DataTransformationConfig):\n",
        "        self.config = config\n",
        "\n",
        "\n",
        "    ## Note: You can add different data transformation techniques such as Scaler, PCA and all\n",
        "    #You can perform all kinds of EDA in ML cycle here before passing this data to the model\n",
        "\n",
        "    # I am only adding train_test_spliting cz this data is already cleaned up\n",
        "\n",
        "\n",
        "    def train_test_spliting(self):\n",
        "        data = pd.read_csv(self.config.data_path)\n",
        "\n",
        "        # Split the data into training and test sets. (0.75, 0.25) split.\n",
        "        train, test = train_test_split(data)\n",
        "\n",
        "        train.to_csv(os.path.join(self.config.root_dir, \"train.csv\"),index = False)\n",
        "        test.to_csv(os.path.join(self.config.root_dir, \"test.csv\"),index = False)\n",
        "\n",
        "        logger.info(\"Splited data into training and test sets\")\n",
        "        logger.info(train.shape)\n",
        "        logger.info(test.shape)\n",
        "\n",
        "        print(train.shape)\n",
        "        print(test.shape)\n"
      ]
    },
    {
      "cell_type": "code",
      "execution_count": 10,
      "metadata": {
        "id": "I2tseUZhWnyI",
        "outputId": "d20c297d-a53a-44a8-84cd-31118f7cb78e"
      },
      "outputs": [
        {
          "name": "stdout",
          "output_type": "stream",
          "text": [
            "[2025-02-06 22:42:18,031: INFO: common: yaml file: config\\config.yaml loaded successfully]\n",
            "[2025-02-06 22:42:18,032: INFO: common: yaml file: params.yaml loaded successfully]\n",
            "[2025-02-06 22:42:18,034: INFO: common: yaml file: schema.yaml loaded successfully]\n",
            "[2025-02-06 22:42:18,035: INFO: common: created directory at: artifacts]\n",
            "[2025-02-06 22:42:18,038: INFO: common: created directory at: artifacts/data_transformation]\n",
            "[2025-02-06 22:42:18,059: INFO: 643746321: Splited data into training and test sets]\n",
            "[2025-02-06 22:42:18,061: INFO: 643746321: (1199, 12)]\n",
            "[2025-02-06 22:42:18,062: INFO: 643746321: (400, 12)]\n",
            "(1199, 12)\n",
            "(400, 12)\n"
          ]
        }
      ],
      "source": [
        "try:\n",
        "    config = ConfigurationManager()\n",
        "    data_transformation_config = config.get_data_transformation_config()\n",
        "    data_transformation = DataTransformation(config=data_transformation_config)\n",
        "    data_transformation.train_test_spliting()\n",
        "except Exception as e:\n",
        "    raise e"
      ]
    },
    {
      "cell_type": "code",
      "execution_count": 11,
      "metadata": {
        "id": "yCmJVcAvWnyJ",
        "outputId": "72fa098b-9d66-4caa-a601-42ffa65794be"
      },
      "outputs": [
        {
          "name": "stdout",
          "output_type": "stream",
          "text": [
            "True\n"
          ]
        }
      ],
      "source": [
        "with open(Path(\"artifacts/data_validation/status.txt\"),'r') as f:\n",
        "                status=f.read().split(\" \")[-1]\n",
        "                print(status)"
      ]
    },
    {
      "cell_type": "code",
      "execution_count": null,
      "metadata": {
        "id": "G_FJIyaCWnyL"
      },
      "outputs": [],
      "source": []
    }
  ],
  "metadata": {
    "colab": {
      "provenance": []
    },
    "kernelspec": {
      "display_name": "Python 3",
      "language": "python",
      "name": "python3"
    },
    "language_info": {
      "codemirror_mode": {
        "name": "ipython",
        "version": 3
      },
      "file_extension": ".py",
      "mimetype": "text/x-python",
      "name": "python",
      "nbconvert_exporter": "python",
      "pygments_lexer": "ipython3",
      "version": "3.10.0"
    }
  },
  "nbformat": 4,
  "nbformat_minor": 0
}
