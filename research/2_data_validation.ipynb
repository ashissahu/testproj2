{
  "cells": [
    {
      "cell_type": "code",
      "execution_count": 1,
      "metadata": {
        "id": "4O9rKqoYWXxo"
      },
      "outputs": [],
      "source": [
        "import os\n"
      ]
    },
    {
      "cell_type": "code",
      "execution_count": 2,
      "metadata": {
        "id": "O9d8F6KVWXxr",
        "outputId": "c80868df-e141-454b-ccf6-f4d7574fc27a"
      },
      "outputs": [
        {
          "data": {
            "text/plain": [
              "'c:\\\\testproj2\\\\research'"
            ]
          },
          "execution_count": 2,
          "metadata": {},
          "output_type": "execute_result"
        }
      ],
      "source": [
        "%pwd"
      ]
    },
    {
      "cell_type": "code",
      "execution_count": 3,
      "metadata": {
        "id": "N8SEG6lhWXxs",
        "outputId": "8f66685a-6210-477f-cca4-35ffbc7ba5a7"
      },
      "outputs": [
        {
          "data": {
            "text/plain": [
              "'c:\\\\testproj2'"
            ]
          },
          "execution_count": 3,
          "metadata": {},
          "output_type": "execute_result"
        }
      ],
      "source": [
        "os.chdir(\"../\")\n",
        "%pwd"
      ]
    },
    {
      "cell_type": "code",
      "execution_count": 4,
      "metadata": {
        "id": "os9IlhEyWXxs",
        "outputId": "ff4888fb-e820-44c1-8eb7-9b32da95b78c"
      },
      "outputs": [
        {
          "data": {
            "text/html": [
              "<div>\n",
              "<style scoped>\n",
              "    .dataframe tbody tr th:only-of-type {\n",
              "        vertical-align: middle;\n",
              "    }\n",
              "\n",
              "    .dataframe tbody tr th {\n",
              "        vertical-align: top;\n",
              "    }\n",
              "\n",
              "    .dataframe thead th {\n",
              "        text-align: right;\n",
              "    }\n",
              "</style>\n",
              "<table border=\"1\" class=\"dataframe\">\n",
              "  <thead>\n",
              "    <tr style=\"text-align: right;\">\n",
              "      <th></th>\n",
              "      <th>fixed acidity</th>\n",
              "      <th>volatile acidity</th>\n",
              "      <th>citric acid</th>\n",
              "      <th>residual sugar</th>\n",
              "      <th>chlorides</th>\n",
              "      <th>free sulfur dioxide</th>\n",
              "      <th>total sulfur dioxide</th>\n",
              "      <th>density</th>\n",
              "      <th>pH</th>\n",
              "      <th>sulphates</th>\n",
              "      <th>alcohol</th>\n",
              "      <th>quality</th>\n",
              "    </tr>\n",
              "  </thead>\n",
              "  <tbody>\n",
              "    <tr>\n",
              "      <th>0</th>\n",
              "      <td>7.4</td>\n",
              "      <td>0.70</td>\n",
              "      <td>0.00</td>\n",
              "      <td>1.9</td>\n",
              "      <td>0.076</td>\n",
              "      <td>11.0</td>\n",
              "      <td>34.0</td>\n",
              "      <td>0.9978</td>\n",
              "      <td>3.51</td>\n",
              "      <td>0.56</td>\n",
              "      <td>9.4</td>\n",
              "      <td>5</td>\n",
              "    </tr>\n",
              "    <tr>\n",
              "      <th>1</th>\n",
              "      <td>7.8</td>\n",
              "      <td>0.88</td>\n",
              "      <td>0.00</td>\n",
              "      <td>2.6</td>\n",
              "      <td>0.098</td>\n",
              "      <td>25.0</td>\n",
              "      <td>67.0</td>\n",
              "      <td>0.9968</td>\n",
              "      <td>3.20</td>\n",
              "      <td>0.68</td>\n",
              "      <td>9.8</td>\n",
              "      <td>5</td>\n",
              "    </tr>\n",
              "    <tr>\n",
              "      <th>2</th>\n",
              "      <td>7.8</td>\n",
              "      <td>0.76</td>\n",
              "      <td>0.04</td>\n",
              "      <td>2.3</td>\n",
              "      <td>0.092</td>\n",
              "      <td>15.0</td>\n",
              "      <td>54.0</td>\n",
              "      <td>0.9970</td>\n",
              "      <td>3.26</td>\n",
              "      <td>0.65</td>\n",
              "      <td>9.8</td>\n",
              "      <td>5</td>\n",
              "    </tr>\n",
              "    <tr>\n",
              "      <th>3</th>\n",
              "      <td>11.2</td>\n",
              "      <td>0.28</td>\n",
              "      <td>0.56</td>\n",
              "      <td>1.9</td>\n",
              "      <td>0.075</td>\n",
              "      <td>17.0</td>\n",
              "      <td>60.0</td>\n",
              "      <td>0.9980</td>\n",
              "      <td>3.16</td>\n",
              "      <td>0.58</td>\n",
              "      <td>9.8</td>\n",
              "      <td>6</td>\n",
              "    </tr>\n",
              "    <tr>\n",
              "      <th>4</th>\n",
              "      <td>7.4</td>\n",
              "      <td>0.70</td>\n",
              "      <td>0.00</td>\n",
              "      <td>1.9</td>\n",
              "      <td>0.076</td>\n",
              "      <td>11.0</td>\n",
              "      <td>34.0</td>\n",
              "      <td>0.9978</td>\n",
              "      <td>3.51</td>\n",
              "      <td>0.56</td>\n",
              "      <td>9.4</td>\n",
              "      <td>5</td>\n",
              "    </tr>\n",
              "  </tbody>\n",
              "</table>\n",
              "</div>"
            ],
            "text/plain": [
              "   fixed acidity  volatile acidity  citric acid  residual sugar  chlorides  \\\n",
              "0            7.4              0.70         0.00             1.9      0.076   \n",
              "1            7.8              0.88         0.00             2.6      0.098   \n",
              "2            7.8              0.76         0.04             2.3      0.092   \n",
              "3           11.2              0.28         0.56             1.9      0.075   \n",
              "4            7.4              0.70         0.00             1.9      0.076   \n",
              "\n",
              "   free sulfur dioxide  total sulfur dioxide  density    pH  sulphates  \\\n",
              "0                 11.0                  34.0   0.9978  3.51       0.56   \n",
              "1                 25.0                  67.0   0.9968  3.20       0.68   \n",
              "2                 15.0                  54.0   0.9970  3.26       0.65   \n",
              "3                 17.0                  60.0   0.9980  3.16       0.58   \n",
              "4                 11.0                  34.0   0.9978  3.51       0.56   \n",
              "\n",
              "   alcohol  quality  \n",
              "0      9.4        5  \n",
              "1      9.8        5  \n",
              "2      9.8        5  \n",
              "3      9.8        6  \n",
              "4      9.4        5  "
            ]
          },
          "execution_count": 4,
          "metadata": {},
          "output_type": "execute_result"
        }
      ],
      "source": [
        "import pandas as pd\n",
        "\n",
        "data=pd.read_csv(\"artifacts/data_ingestion/winequality-red.csv\")\n",
        "data.head()"
      ]
    },
    {
      "cell_type": "code",
      "execution_count": 5,
      "metadata": {
        "id": "m_LY2iJjWXxt",
        "outputId": "298e4812-21f8-4301-f70f-f8bab902216e"
      },
      "outputs": [
        {
          "name": "stdout",
          "output_type": "stream",
          "text": [
            "<class 'pandas.core.frame.DataFrame'>\n",
            "RangeIndex: 1599 entries, 0 to 1598\n",
            "Data columns (total 12 columns):\n",
            " #   Column                Non-Null Count  Dtype  \n",
            "---  ------                --------------  -----  \n",
            " 0   fixed acidity         1599 non-null   float64\n",
            " 1   volatile acidity      1599 non-null   float64\n",
            " 2   citric acid           1599 non-null   float64\n",
            " 3   residual sugar        1599 non-null   float64\n",
            " 4   chlorides             1599 non-null   float64\n",
            " 5   free sulfur dioxide   1599 non-null   float64\n",
            " 6   total sulfur dioxide  1599 non-null   float64\n",
            " 7   density               1599 non-null   float64\n",
            " 8   pH                    1599 non-null   float64\n",
            " 9   sulphates             1599 non-null   float64\n",
            " 10  alcohol               1599 non-null   float64\n",
            " 11  quality               1599 non-null   int64  \n",
            "dtypes: float64(11), int64(1)\n",
            "memory usage: 150.0 KB\n"
          ]
        }
      ],
      "source": [
        "data.info()"
      ]
    },
    {
      "cell_type": "code",
      "execution_count": 6,
      "metadata": {
        "id": "394_ufcPWXxt",
        "outputId": "5ca39aac-2adf-44d7-afcc-b2a6d9632b9e"
      },
      "outputs": [
        {
          "data": {
            "text/plain": [
              "fixed acidity           0\n",
              "volatile acidity        0\n",
              "citric acid             0\n",
              "residual sugar          0\n",
              "chlorides               0\n",
              "free sulfur dioxide     0\n",
              "total sulfur dioxide    0\n",
              "density                 0\n",
              "pH                      0\n",
              "sulphates               0\n",
              "alcohol                 0\n",
              "quality                 0\n",
              "dtype: int64"
            ]
          },
          "execution_count": 6,
          "metadata": {},
          "output_type": "execute_result"
        }
      ],
      "source": [
        "data.isnull().sum()"
      ]
    },
    {
      "cell_type": "code",
      "execution_count": 7,
      "metadata": {
        "id": "PUgJWBbnWXxu",
        "outputId": "f79f0934-84db-4cae-baf9-4ac54a501ff6"
      },
      "outputs": [
        {
          "data": {
            "text/plain": [
              "(1599, 12)"
            ]
          },
          "execution_count": 7,
          "metadata": {},
          "output_type": "execute_result"
        }
      ],
      "source": [
        "data.shape"
      ]
    },
    {
      "cell_type": "code",
      "execution_count": 8,
      "metadata": {
        "id": "p9n-Oii1WXxu"
      },
      "outputs": [],
      "source": [
        "# Import necessary modules  \n",
        "from dataclasses import dataclass  # Provides a decorator to create data classes  \n",
        "from pathlib import Path  # Helps in handling file system paths  \n",
        "\n",
        "# Define a data class for storing data validation configuration  \n",
        "@dataclass  \n",
        "class DataValidationConfig:  \n",
        "    root_dir: Path  # The root directory where validation-related files are stored  \n",
        "    STATUS_FILE: str  # Path to the status file that tracks validation results  \n",
        "    unzip_data_dir: Path  # Directory where unzipped data is stored for validation  \n",
        "    all_schema: dict  # Dictionary containing schema definitions for validation  \n"
      ]
    },
    {
      "cell_type": "code",
      "execution_count": 9,
      "metadata": {
        "id": "63-NyWiGWXxu"
      },
      "outputs": [],
      "source": [
        "from src.datascience.constants import *\n",
        "from src.datascience.utils.common import read_yaml, create_directories"
      ]
    },
    {
      "cell_type": "code",
      "execution_count": 10,
      "metadata": {
        "id": "bsd2XCKXWXxu"
      },
      "outputs": [],
      "source": [
        "# Define the ConfigurationManager class to manage configuration settings\n",
        "class ConfigurationManager:\n",
        "    def __init__(\n",
        "        self,\n",
        "        config_filepath=CONFIG_FILE_PATH,  # Path to the main configuration YAML file\n",
        "        params_filepath=PARAMS_FILE_PATH,  # Path to the parameters YAML file\n",
        "        schema_filepath=SCHEMA_FILE_PATH,  # Path to the schema YAML file\n",
        "    ):\n",
        "        # Load configuration settings from the provided YAML files\n",
        "        self.config = read_yaml(config_filepath)  # Reads main configuration file\n",
        "        self.params = read_yaml(params_filepath)  # Reads parameters file\n",
        "        self.schema = read_yaml(schema_filepath)  # Reads schema file\n",
        "\n",
        "        # Ensure that the necessary directories exist by creating them if missing\n",
        "        create_directories([self.config.artifacts_root])\n",
        "\n",
        "    # Function to retrieve the Data Validation configuration\n",
        "    def get_data_validation_config(self) -> DataValidationConfig:\n",
        "        config = self.config.data_validation  # Access data validation settings\n",
        "        schema = self.schema.COLUMNS  # Extract schema column definitions from YAML\n",
        "\n",
        "        # Ensure the root directory for data validation exists\n",
        "        create_directories([config.root_dir])\n",
        "\n",
        "        # Create a DataValidationConfig instance with extracted settings\n",
        "        data_validation_config = DataValidationConfig(\n",
        "            root_dir=config.root_dir,  # Directory for validation-related files\n",
        "            STATUS_FILE=config.STATUS_FILE,  # Path to the validation status file\n",
        "            unzip_data_dir=config.unzip_data_dir,  # Directory where unzipped data is stored\n",
        "            all_schema=schema,  # Schema dictionary containing column definitions\n",
        "        )\n",
        "\n",
        "        return data_validation_config  # Return the configured DataValidationConfig object\n"
      ]
    },
    {
      "cell_type": "code",
      "execution_count": 11,
      "metadata": {
        "id": "lfur53nyWXxv"
      },
      "outputs": [],
      "source": [
        "import os\n",
        "from src.datascience import logger"
      ]
    },
    {
      "cell_type": "code",
      "execution_count": 12,
      "metadata": {
        "id": "AV5yKsYVWXxv"
      },
      "outputs": [],
      "source": [
        "# Import necessary modules\n",
        "import pandas as pd  # Used for handling and processing CSV files\n",
        "\n",
        "# Define the DataValidation class to validate data against a predefined schema\n",
        "class DataValidation:\n",
        "    def __init__(self, config: DataValidationConfig):\n",
        "        \"\"\"\n",
        "        Initializes the DataValidation class with a configuration object.\n",
        "\n",
        "        Parameters:\n",
        "        config (DataValidationConfig): Configuration object containing validation settings.\n",
        "        \"\"\"\n",
        "        self.config = config  # Store the configuration settings\n",
        "\n",
        "    def validate_all_columns(self) -> bool:\n",
        "        \"\"\"\n",
        "        Validates if all the required columns are present in the dataset.\n",
        "\n",
        "        Returns:\n",
        "        bool: True if validation is successful, False otherwise.\n",
        "        \"\"\"\n",
        "        try:\n",
        "            validation_status = None  # Initialize validation status as None\n",
        "\n",
        "            # Read the CSV file containing the data to be validated\n",
        "            data = pd.read_csv(self.config.unzip_data_dir)\n",
        "\n",
        "            # Get the list of all columns present in the dataset\n",
        "            all_cols = list(data.columns)\n",
        "\n",
        "            # Retrieve the expected schema columns from the configuration\n",
        "            all_schema = self.config.all_schema.keys()\n",
        "\n",
        "            # Iterate over each column in the dataset\n",
        "            for col in all_cols:\n",
        "                # Check if the column exists in the predefined schema\n",
        "                if col not in all_schema:\n",
        "                    validation_status = False  # Mark validation as failed\n",
        "                    with open(self.config.STATUS_FILE, 'w') as f:  # Open status file for writing\n",
        "                        f.write(f\"Validation status: {validation_status}\")  # Log the status\n",
        "                else:\n",
        "                    validation_status = True  # Mark validation as successful\n",
        "                    with open(self.config.STATUS_FILE, 'w') as f:  # Open status file for writing\n",
        "                        f.write(f\"Validation status: {validation_status}\")  # Log the status\n",
        "\n",
        "            return validation_status  # Return final validation result\n",
        "\n",
        "        except Exception as e:\n",
        "            raise e  # Raise any exceptions encountered during validation\n"
      ]
    },
    {
      "cell_type": "code",
      "execution_count": 13,
      "metadata": {
        "id": "bxpb3QNIWXxw",
        "outputId": "b0c0acc8-5a87-4fd2-ab9d-e5def1c32cb5"
      },
      "outputs": [
        {
          "name": "stdout",
          "output_type": "stream",
          "text": [
            "[2025-02-06 22:22:10,424: INFO: common: yaml file: config\\config.yaml loaded successfully]\n",
            "[2025-02-06 22:22:10,426: INFO: common: yaml file: params.yaml loaded successfully]\n",
            "[2025-02-06 22:22:10,429: INFO: common: yaml file: schema.yaml loaded successfully]\n",
            "[2025-02-06 22:22:10,429: INFO: common: created directory at: artifacts]\n",
            "[2025-02-06 22:22:10,431: INFO: common: created directory at: artifacts/data_validation]\n"
          ]
        }
      ],
      "source": [
        "try:\n",
        "    config = ConfigurationManager()\n",
        "    data_validation_config = config.get_data_validation_config()\n",
        "    data_validation = DataValidation(config=data_validation_config)\n",
        "    data_validation.validate_all_columns()\n",
        "except Exception as e:\n",
        "    raise e"
      ]
    },
    {
      "cell_type": "code",
      "execution_count": null,
      "metadata": {},
      "outputs": [],
      "source": []
    }
  ],
  "metadata": {
    "colab": {
      "provenance": []
    },
    "kernelspec": {
      "display_name": "Python 3",
      "language": "python",
      "name": "python3"
    },
    "language_info": {
      "codemirror_mode": {
        "name": "ipython",
        "version": 3
      },
      "file_extension": ".py",
      "mimetype": "text/x-python",
      "name": "python",
      "nbconvert_exporter": "python",
      "pygments_lexer": "ipython3",
      "version": "3.10.0"
    }
  },
  "nbformat": 4,
  "nbformat_minor": 0
}
